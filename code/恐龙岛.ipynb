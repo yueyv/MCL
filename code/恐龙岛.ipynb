{
 "cells": [
  {
   "cell_type": "code",
   "execution_count": 1,
   "source": [
    "import numpy as np\r\n",
    "import random\r\n",
    "import time\r\n",
    "import cllm_utils"
   ],
   "outputs": [],
   "metadata": {}
  },
  {
   "cell_type": "code",
   "execution_count": 2,
   "source": [
    "data=open(\"dinos.txt\",\"r\").read()\r\n",
    "data=data.lower()\r\n",
    "chars=list(set(data))\r\n",
    "data_size,vocab_size=len(data),len(chars)\r\n",
    "print(chars)\r\n",
    "print(data_size,vocab_size)"
   ],
   "outputs": [
    {
     "output_type": "stream",
     "name": "stdout",
     "text": [
      "['t', 'i', 'w', 'b', 'h', 'k', 'e', 's', 'l', 'x', 'z', 'm', 'r', '\\n', 'q', 'c', 'p', 'n', 'o', 'u', 'a', 'y', 'g', 'j', 'd', 'v', 'f']\n",
      "19909 27\n"
     ]
    }
   ],
   "metadata": {}
  },
  {
   "cell_type": "code",
   "execution_count": 3,
   "source": [
    "char_to_ix={ch:i for i,ch in enumerate(sorted(chars))}\r\n",
    "ix_to_char={i:ch for i,ch in enumerate(sorted(chars))}\r\n",
    "print(char_to_ix)\r\n",
    "print(ix_to_char)"
   ],
   "outputs": [
    {
     "output_type": "stream",
     "name": "stdout",
     "text": [
      "{'\\n': 0, 'a': 1, 'b': 2, 'c': 3, 'd': 4, 'e': 5, 'f': 6, 'g': 7, 'h': 8, 'i': 9, 'j': 10, 'k': 11, 'l': 12, 'm': 13, 'n': 14, 'o': 15, 'p': 16, 'q': 17, 'r': 18, 's': 19, 't': 20, 'u': 21, 'v': 22, 'w': 23, 'x': 24, 'y': 25, 'z': 26}\n",
      "{0: '\\n', 1: 'a', 2: 'b', 3: 'c', 4: 'd', 5: 'e', 6: 'f', 7: 'g', 8: 'h', 9: 'i', 10: 'j', 11: 'k', 12: 'l', 13: 'm', 14: 'n', 15: 'o', 16: 'p', 17: 'q', 18: 'r', 19: 's', 20: 't', 21: 'u', 22: 'v', 23: 'w', 24: 'x', 25: 'y', 26: 'z'}\n"
     ]
    }
   ],
   "metadata": {}
  },
  {
   "cell_type": "code",
   "execution_count": 4,
   "source": [
    "def clip(gradients,maxValue):\r\n",
    "    dWaa, dWax, dWya, db, dby = gradients['dWaa'], gradients['dWax'], gradients['dWya'], gradients['db'], gradients['dby']\r\n",
    "    for gradient in [dWaa, dWax, dWya, db, dby]:\r\n",
    "        np.clip(gradient, -maxValue, maxValue, out=gradient)\r\n",
    "    gradients = {\"dWaa\": dWaa, \"dWax\": dWax, \"dWya\": dWya, \"db\": db, \"dby\": dby}\r\n",
    "    return gradients"
   ],
   "outputs": [],
   "metadata": {}
  },
  {
   "cell_type": "code",
   "execution_count": 5,
   "source": [
    "np.random.seed(3)\r\n",
    "dWax = np.random.randn(5,3)*10\r\n",
    "dWaa = np.random.randn(5,5)*10\r\n",
    "dWya = np.random.randn(2,5)*10\r\n",
    "db = np.random.randn(5,1)*10\r\n",
    "dby = np.random.randn(2,1)*10\r\n",
    "gradients = {\"dWax\": dWax, \"dWaa\": dWaa, \"dWya\": dWya, \"db\": db, \"dby\": dby}\r\n",
    "gradients = clip(gradients, 10)\r\n",
    "print(\"gradients[\\\"dWaa\\\"][1][2] =\", gradients[\"dWaa\"][1][2])\r\n",
    "print(\"gradients[\\\"dWax\\\"][3][1] =\", gradients[\"dWax\"][3][1])\r\n",
    "print(\"gradients[\\\"dWya\\\"][1][2] =\", gradients[\"dWya\"][1][2])\r\n",
    "print(\"gradients[\\\"db\\\"][4] =\", gradients[\"db\"][4])\r\n",
    "print(\"gradients[\\\"dby\\\"][1] =\", gradients[\"dby\"][1])\r\n"
   ],
   "outputs": [
    {
     "output_type": "stream",
     "name": "stdout",
     "text": [
      "gradients[\"dWaa\"][1][2] = 10.0\n",
      "gradients[\"dWax\"][3][1] = -10.0\n",
      "gradients[\"dWya\"][1][2] = 0.2971381536101662\n",
      "gradients[\"db\"][4] = [10.]\n",
      "gradients[\"dby\"][1] = [8.45833407]\n"
     ]
    }
   ],
   "metadata": {}
  },
  {
   "cell_type": "code",
   "execution_count": 8,
   "source": [
    "\r\n",
    "def sample(parameters,char_to_is,seed):\r\n",
    "    Waa, Wax, Wya, by, b = parameters['Waa'], parameters['Wax'], parameters['Wya'], parameters['by'], parameters['b']\r\n",
    "    vocab_size = by.shape[0]\r\n",
    "    n_a = Waa.shape[1]\r\n",
    "    x=np.zeros((vocab_size,1))\r\n",
    "    a_prev=np.zeros((n_a,1))\r\n",
    "    indices=[]\r\n",
    "    idx=-1\r\n",
    "    counter=0\r\n",
    "    newline_character=char_to_ix[\"\\n\"]\r\n",
    "    while(idx!=newline_character and counter<50):\r\n",
    "        a=np.tanh(np.dot(Wax,x)+np.dot(Waa,a_prev)+b)\r\n",
    "        z=np.dot(Wya,a)+by\r\n",
    "        y=cllm_utils.softmax(z)\r\n",
    "        np.random.seed(counter+seed)\r\n",
    "        idx=np.random.choice(list(range(vocab_size)),p=y.ravel())\r\n",
    "        indices.append(idx)\r\n",
    "        x=np.zeros((vocab_size,1))\r\n",
    "        x[idx]=1\r\n",
    "        a_prev=a\r\n",
    "        seed+=1\r\n",
    "        counter+=1\r\n",
    "    if(counter==50):\r\n",
    "        indices.append(char_to_ix[\"\\n\"])\r\n",
    "    return indices"
   ],
   "outputs": [],
   "metadata": {}
  },
  {
   "cell_type": "code",
   "execution_count": 9,
   "source": [
    "np.random.seed(2)\r\n",
    "_, n_a = 20, 100\r\n",
    "Wax, Waa, Wya = np.random.randn(n_a, vocab_size), np.random.randn(n_a, n_a), np.random.randn(vocab_size, n_a)\r\n",
    "b, by = np.random.randn(n_a, 1), np.random.randn(vocab_size, 1)\r\n",
    "parameters = {\"Wax\": Wax, \"Waa\": Waa, \"Wya\": Wya, \"b\": b, \"by\": by}\r\n",
    "\r\n",
    "\r\n",
    "indices = sample(parameters, char_to_ix, 0)\r\n",
    "print(\"Sampling:\")\r\n",
    "print(\"list of sampled indices:\", indices)\r\n",
    "print(\"list of sampled characters:\", [ix_to_char[i] for i in indices])\r\n"
   ],
   "outputs": [
    {
     "output_type": "stream",
     "name": "stdout",
     "text": [
      "Sampling:\n",
      "list of sampled indices: [12, 17, 24, 14, 13, 9, 10, 22, 24, 6, 13, 11, 12, 6, 21, 15, 21, 14, 3, 2, 1, 21, 18, 24, 7, 25, 6, 25, 18, 10, 16, 2, 3, 8, 15, 12, 11, 7, 1, 12, 10, 2, 7, 7, 11, 17, 18, 1, 12, 9, 0]\n",
      "list of sampled characters: ['l', 'q', 'x', 'n', 'm', 'i', 'j', 'v', 'x', 'f', 'm', 'k', 'l', 'f', 'u', 'o', 'u', 'n', 'c', 'b', 'a', 'u', 'r', 'x', 'g', 'y', 'f', 'y', 'r', 'j', 'p', 'b', 'c', 'h', 'o', 'l', 'k', 'g', 'a', 'l', 'j', 'b', 'g', 'g', 'k', 'q', 'r', 'a', 'l', 'i', '\\n']\n"
     ]
    }
   ],
   "metadata": {}
  },
  {
   "cell_type": "code",
   "execution_count": 14,
   "source": [
    "def optimize(X,Y,a_prev,parameters,learning_rate=0.01):\r\n",
    "    loss,cache=cllm_utils.rnn_forward(X,Y,a_prev,parameters)\r\n",
    "    gradients,a=cllm_utils.rnn_backward(X,Y,parameters,cache)\r\n",
    "    gradients=clip(gradients,5)\r\n",
    "    parameters=cllm_utils.update_parameters(parameters,gradients,learning_rate)\r\n",
    "    return loss,gradients,a[len(X)-1]\r\n",
    "  "
   ],
   "outputs": [],
   "metadata": {}
  },
  {
   "cell_type": "code",
   "execution_count": 15,
   "source": [
    "np.random.seed(1)\r\n",
    "vocab_size, n_a = 27, 100\r\n",
    "a_prev = np.random.randn(n_a, 1)\r\n",
    "Wax, Waa, Wya = np.random.randn(n_a, vocab_size), np.random.randn(n_a, n_a), np.random.randn(vocab_size, n_a)\r\n",
    "b, by = np.random.randn(n_a, 1), np.random.randn(vocab_size, 1)\r\n",
    "parameters = {\"Wax\": Wax, \"Waa\": Waa, \"Wya\": Wya, \"b\": b, \"by\": by}\r\n",
    "X = [12,3,5,11,22,3]\r\n",
    "Y = [4,14,11,22,25, 26]\r\n",
    "\r\n",
    "loss, gradients, a_last = optimize(X, Y, a_prev, parameters, learning_rate = 0.01)\r\n",
    "print(\"Loss =\", loss)\r\n",
    "print(\"gradients[\\\"dWaa\\\"][1][2] =\", gradients[\"dWaa\"][1][2])\r\n",
    "print(\"np.argmax(gradients[\\\"dWax\\\"]) =\", np.argmax(gradients[\"dWax\"]))\r\n",
    "print(\"gradients[\\\"dWya\\\"][1][2] =\", gradients[\"dWya\"][1][2])\r\n",
    "print(\"gradients[\\\"db\\\"][4] =\", gradients[\"db\"][4])\r\n",
    "print(\"gradients[\\\"dby\\\"][1] =\", gradients[\"dby\"][1])\r\n",
    "print(\"a_last[4] =\", a_last[4])\r\n"
   ],
   "outputs": [
    {
     "output_type": "stream",
     "name": "stdout",
     "text": [
      "Loss = 126.50397572165382\n",
      "gradients[\"dWaa\"][1][2] = 0.19470931534716163\n",
      "np.argmax(gradients[\"dWax\"]) = 93\n",
      "gradients[\"dWya\"][1][2] = -0.007773876032002922\n",
      "gradients[\"db\"][4] = [-0.06809825]\n",
      "gradients[\"dby\"][1] = [0.01538192]\n",
      "a_last[4] = [-1.]\n"
     ]
    }
   ],
   "metadata": {}
  },
  {
   "cell_type": "code",
   "execution_count": 21,
   "source": [
    "def model(data, ix_to_char, char_to_ix, num_iterations=3500, \r\n",
    "          n_a=50, dino_names=7,vocab_size=27):\r\n",
    "    \"\"\"\r\n",
    "    训练模型并生成恐龙名字\r\n",
    "    \r\n",
    "    参数：\r\n",
    "        data -- 语料库\r\n",
    "        ix_to_char -- 索引映射字符字典\r\n",
    "        char_to_ix -- 字符映射索引字典\r\n",
    "        num_iterations -- 迭代次数\r\n",
    "        n_a -- RNN单元数量\r\n",
    "        dino_names -- 每次迭代中采样的数量\r\n",
    "        vocab_size -- 在文本中的唯一字符的数量\r\n",
    "    \r\n",
    "    返回：\r\n",
    "        parameters -- 学习后了的参数\r\n",
    "    \"\"\"\r\n",
    "    \r\n",
    "    # 从vocab_size中获取n_x、n_y\r\n",
    "    n_x, n_y = vocab_size, vocab_size\r\n",
    "    \r\n",
    "    # 初始化参数\r\n",
    "    parameters = cllm_utils.initialize_parameters(n_a, n_x, n_y)\r\n",
    "    \r\n",
    "    # 初始化损失\r\n",
    "    loss = cllm_utils.get_initial_loss(vocab_size, dino_names)\r\n",
    "    \r\n",
    "    # 构建恐龙名称列表\r\n",
    "    with open(\"dinos.txt\") as f:\r\n",
    "        examples = f.readlines()\r\n",
    "    examples = [x.lower().strip() for x in examples]\r\n",
    "    \r\n",
    "    # 打乱全部的恐龙名称\r\n",
    "    np.random.seed(0)\r\n",
    "    np.random.shuffle(examples)\r\n",
    "    \r\n",
    "    # 初始化LSTM隐藏状态\r\n",
    "    a_prev = np.zeros((n_a,1))\r\n",
    "    \r\n",
    "    # 循环\r\n",
    "    for j in range(num_iterations):\r\n",
    "        # 定义一个训练样本\r\n",
    "        index = j % len(examples)\r\n",
    "        X = [None] + [char_to_ix[ch] for ch in examples[index]] \r\n",
    "        Y = X[1:] + [char_to_ix[\"\\n\"]]\r\n",
    "        \r\n",
    "        # 执行单步优化：前向传播 -> 反向传播 -> 梯度修剪 -> 更新参数\r\n",
    "        # 选择学习率为0.01\r\n",
    "        curr_loss, gradients, a_prev = optimize(X, Y, a_prev, parameters)\r\n",
    "        \r\n",
    "        # 使用延迟来保持损失平滑,这是为了加速训练。\r\n",
    "        loss = cllm_utils.smooth(loss, curr_loss)\r\n",
    "        \r\n",
    "        # 每2000次迭代，通过sample()生成“\\n”字符，检查模型是否学习正确\r\n",
    "        if j % 2000 == 0:\r\n",
    "            print(str(j+1) + str(loss))\r\n",
    "            \r\n",
    "            seed = 0\r\n",
    "            for name in range(dino_names):\r\n",
    "                # 采样\r\n",
    "                sampled_indices = sample(parameters, char_to_ix, seed)\r\n",
    "                cllm_utils.print_sample(sampled_indices, ix_to_char)\r\n",
    "                \r\n",
    "                # 为了得到相同的效果，随机种子+1\r\n",
    "                seed += 1\r\n",
    "            \r\n",
    "            print(\"\\n\")\r\n",
    "    return parameters\r\n"
   ],
   "outputs": [],
   "metadata": {}
  },
  {
   "cell_type": "code",
   "execution_count": 22,
   "source": [
    "#开始时间\r\n",
    "start_time = time.perf_counter()\r\n",
    "\r\n",
    "#开始训练\r\n",
    "parameters = model(data, ix_to_char, char_to_ix, num_iterations=3500)\r\n",
    "\r\n",
    "#结束时间\r\n",
    "end_time = time.perf_counter()\r\n",
    "\r\n",
    "#计算时差\r\n",
    "minium = end_time - start_time\r\n",
    "\r\n",
    "print(\"执行了：\" + str(int(minium / 60)) + \"分\" + str(int(minium%60)) + \"秒\")\r\n"
   ],
   "outputs": [
    {
     "output_type": "stream",
     "name": "stdout",
     "text": [
      "123.087336085484605\n",
      "Nkzxwtdmfqoeyhsqwasjkjvu\n",
      "Kneb\n",
      "Kzxwtdmfqoeyhsqwasjkjvu\n",
      "Neb\n",
      "Zxwtdmfqoeyhsqwasjkjvu\n",
      "Eb\n",
      "Xwtdmfqoeyhsqwasjkjvu\n",
      "\n",
      "\n",
      "200127.884160491415777\n",
      "Liusskeomnolxeros\n",
      "Hmdaairus\n",
      "Hytroligoraurus\n",
      "Lecalosapaus\n",
      "Xusicikoraurus\n",
      "Abalpsamantisaurus\n",
      "Tpraneronxeros\n",
      "\n",
      "\n",
      "执行了：0分3秒\n"
     ]
    }
   ],
   "metadata": {}
  },
  {
   "cell_type": "code",
   "execution_count": null,
   "source": [],
   "outputs": [],
   "metadata": {}
  }
 ],
 "metadata": {
  "orig_nbformat": 4,
  "language_info": {
   "name": "python",
   "version": "3.9.6",
   "mimetype": "text/x-python",
   "codemirror_mode": {
    "name": "ipython",
    "version": 3
   },
   "pygments_lexer": "ipython3",
   "nbconvert_exporter": "python",
   "file_extension": ".py"
  },
  "kernelspec": {
   "name": "python3",
   "display_name": "Python 3.9.6 64-bit (system)"
  },
  "interpreter": {
   "hash": "32e9ab840cb933d43e5188efb9d1ff08e68a9688b349b3ec0074c57ca091245c"
  }
 },
 "nbformat": 4,
 "nbformat_minor": 2
}